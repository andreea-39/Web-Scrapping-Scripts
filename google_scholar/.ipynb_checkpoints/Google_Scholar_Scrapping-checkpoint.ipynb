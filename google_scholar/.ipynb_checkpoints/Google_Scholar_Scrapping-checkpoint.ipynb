{
 "cells": [
  {
   "cell_type": "code",
   "execution_count": null,
   "id": "28f4918e",
   "metadata": {},
   "outputs": [],
   "source": [
    "import json\n",
    "import time\n",
    "import os\n",
    "import re\n",
    "import glob\n",
    "import random\n",
    "\n",
    "from selenium import webdriver\n",
    "from selenium.webdriver.common.keys import Keys\n",
    "from selenium.webdriver.chrome.service import Service\n",
    "from selenium.webdriver.common.by import By\n",
    "from selenium.webdriver.chrome.options import Options"
   ]
  },
  {
   "cell_type": "code",
   "execution_count": null,
   "id": "d0dcc2a6",
   "metadata": {},
   "outputs": [],
   "source": [
    "# # List of proxies\n",
    "# proxies = [\n",
    "#     \"103.116.82.135:8080\",\n",
    "#     \"102.216.84.18:8080\",\n",
    "#     \"102.68.128.211:8080\",\n",
    "#     \"138.117.84.199:8080\"\n",
    "# ]\n",
    "\n",
    "# # Choose a random proxy from the list\n",
    "# proxy = random.choice(proxies)"
   ]
  },
  {
   "cell_type": "code",
   "execution_count": null,
   "id": "79b72e5b",
   "metadata": {},
   "outputs": [],
   "source": [
    "def init_google_scholar_scrapping_driver():\n",
    "    \n",
    "    chrome_options = Options() # Initialize the Chrome Driver\n",
    "\n",
    "    chrome_options.add_argument(\"--headless\") # Run in headless mode (no GUI)\n",
    "    chrome_options.add_argument(\"--disable-blink-features=AutomationControlled\")\n",
    "    chrome_options.add_argument(\"--log-level=3\")  # Suppress console logs (INFO = 0, WARNING = 1, LOG_ERROR = 2, LOG_FATAL = 3)\n",
    "    chrome_options.add_experimental_option(\"excludeSwitches\", [\"enable-logging\"])\n",
    "#     chrome_options.add_argument(f'--proxy-server={proxy}')\n",
    "\n",
    "    driver_path = os.path.join(\"utils\", \"chromedriver-win64\", \"chromedriver-win64\", \"chromedriver.exe\")\n",
    "\n",
    "    service = Service(driver_path)\n",
    "\n",
    "    driver = webdriver.Chrome(service=service, options=chrome_options)\n",
    "    \n",
    "    return driver"
   ]
  },
  {
   "cell_type": "code",
   "execution_count": null,
   "id": "1f1bb595",
   "metadata": {},
   "outputs": [],
   "source": [
    "def init_pdf_downloader_driver(downloads_directory: str):\n",
    "    chrome_options = Options()\n",
    "\n",
    "    chrome_options.add_argument(\"--headless\") # Run in headless mode (no GUI)\n",
    "    chrome_options.add_argument(\"--disable-blink-features=AutomationControlled\")\n",
    "    chrome_options.add_argument(\"--log-level=3\")   # Suppress console logs (INFO = 0, WARNING = 1, LOG_ERROR = 2, LOG_FATAL = 3)\n",
    "    chrome_options.add_experimental_option(\"excludeSwitches\", [\"enable-logging\"])\n",
    "#     chrome_options.add_argument(f'--proxy-server={proxy}')\n",
    "\n",
    "\n",
    "    driver_path = os.path.join(\"utils\", \"chromedriver-win64\", \"chromedriver-win64\", \"chromedriver.exe\")\n",
    "    \n",
    "    service = Service(driver_path)\n",
    "\n",
    "    preferences = {\n",
    "        \"download.default_directory\": downloads_directory,  # Set the download directory\n",
    "        \"plugins.always_open_pdf_externally\": True,  # Automatically download PDFs\n",
    "        \"download.prompt_for_download\": False,       # Disable download prompt\n",
    "        \"download.directory_upgrade\": True,\n",
    "        \"safebrowsing.enabled\": True                 # Disable safe browsing check\n",
    "    }\n",
    "    chrome_options.add_experimental_option(\"prefs\", preferences)\n",
    "\n",
    "    # Initialize Chrome WebDriver\n",
    "    driver = webdriver.Chrome(service=service, options=chrome_options)\n",
    "    \n",
    "#     driver.execute_cdp_cmd(\"Page.setDownloadBehavior\", {\n",
    "#     \"behavior\": \"allow\",\n",
    "#     \"downloadPath\": downloads_directory\n",
    "#     })\n",
    "\n",
    "\n",
    "    return driver"
   ]
  },
  {
   "cell_type": "code",
   "execution_count": null,
   "id": "7ed8b44c",
   "metadata": {},
   "outputs": [],
   "source": [
    "google_scholar_main_page_link = \"https://scholar.google.com\""
   ]
  },
  {
   "cell_type": "code",
   "execution_count": null,
   "id": "d48c803f",
   "metadata": {},
   "outputs": [],
   "source": [
    "def get_article_title_and_link(article):\n",
    "\n",
    "    title = article.find_element(By.TAG_NAME, \"h3\").text\n",
    "    \n",
    "    try:\n",
    "        link = article.find_element(By.CLASS_NAME, \"gs_or_ggsm\").find_element(By.TAG_NAME, \"a\").get_attribute(\"href\")\n",
    "    except:\n",
    "        link = None\n",
    "    \n",
    "    return title, link"
   ]
  },
  {
   "cell_type": "code",
   "execution_count": null,
   "id": "104847af",
   "metadata": {},
   "outputs": [],
   "source": [
    "def update_articles_links_for_topic(driver, topic: str):\n",
    "\n",
    "    if os.path.exists(os.path.join(\"utils\", f\"{re.sub(' ', '_', topic)}_articles_list.json\")):\n",
    "        with open(os.path.join(\"utils\", f\"{re.sub(' ', '_', topic)}_articles_list.json\"), \"r\") as infile:\n",
    "            articles_list = json.load(infile)\n",
    "        saved_links = [article[\"google_scholar_link\"] for article in articles_list]\n",
    "                    \n",
    "    else:\n",
    "        articles_list = []             \n",
    "        saved_links = []\n",
    "        \n",
    "    driver.get(google_scholar_main_page_link)\n",
    "    \n",
    "\n",
    "    input_bar = driver.find_element(By.XPATH, \"/html/body/div/div[7]/div[1]/div[2]/form/div/input\")\n",
    "    input_bar.send_keys(topic)\n",
    "    input_bar.send_keys(Keys.ENTER)\n",
    "    \n",
    "    time.sleep(5)\n",
    "    \n",
    "    for index in range(5):\n",
    "        print(f\"Page {index+1}\")\n",
    "        \n",
    "\n",
    "        results_list_object = driver.find_element(By.XPATH, \"/html/body/div/div[10]/div[2]/div[3]/div[2]\")\n",
    "\n",
    "        for result in results_list_object.find_elements(By.CLASS_NAME, \"gs_r\"):\n",
    "            \n",
    "            # Skip the section with similar results for chosen topic\n",
    "            if len(result.find_elements(By.TAG_NAME, \"h2\"))>0:\n",
    "                continue\n",
    "            else:\n",
    "                title, link = get_article_title_and_link(result)\n",
    "\n",
    "                if link != None and link not in saved_links:\n",
    "                    print(title, link)\n",
    "                    articles_list.append({\n",
    "                        \"topic\": re.sub(' ', '_', topic),\n",
    "                        \"title\": title,\n",
    "                        \"google_scholar_link\": link,\n",
    "                    })\n",
    "        time.sleep(5)\n",
    "        \n",
    "        try:\n",
    "            next_page_button = driver.find_element(By.XPATH, \"/html/body/div[1]/div[10]/div[2]/div[3]/div[3]/div[3]/center/table/tbody/tr/td[12]/a\")\n",
    "        except:\n",
    "            next_page_button = driver.find_element(By.XPATH, \"/html/body/div/div[10]/div[2]/div[3]/div[3]/div[2]/center/table/tbody/tr/td[12]/a\")\n",
    "            \n",
    "        driver.execute_script(\"arguments[0].click();\", next_page_button)\n",
    "        time.sleep(5)\n",
    "        \n",
    "        \n",
    "        with open(os.path.join(\"utils\", f\"{re.sub(' ', '_', topic)}_articles_list.json\"), \"w\") as outfile:\n",
    "             outfile.write(json.dumps(articles_list))"
   ]
  },
  {
   "cell_type": "code",
   "execution_count": null,
   "id": "dd03ff13",
   "metadata": {},
   "outputs": [],
   "source": [
    "def get_last_downloaded_file(downloads_directory):\n",
    "    # Get a list of all files in the downloads directory\n",
    "    files = glob.glob(os.path.join(downloads_directory, '*'))\n",
    "    \n",
    "    if not files:\n",
    "        return None\n",
    "\n",
    "    # Find the file with the latest modification time\n",
    "    latest_file = max(files, key=os.path.getmtime)\n",
    "    \n",
    "    return latest_file"
   ]
  },
  {
   "cell_type": "code",
   "execution_count": null,
   "id": "6773c921",
   "metadata": {},
   "outputs": [],
   "source": [
    "def download_pdfs_from_list(driver, topic:str):\n",
    "    \n",
    "    downloads_directory = os.path.join(\"output\", f\"{re.sub(' ', '_', topic)}\")\n",
    "    \n",
    "    with open(os.path.join(\"utils\", f\"{re.sub(' ', '_', topic)}_articles_list.json\"), \"r\") as infile:\n",
    "        articles_list = json.load(infile)\n",
    "    \n",
    "    for index in range(len(articles_list)):\n",
    "        if \"downloaded_file_name\" not in articles_list[index].keys():\n",
    "            print(f\"Downloading file: {articles_list[index]['title']}\")\n",
    "            previous_downloaded_file_name = get_last_downloaded_file(downloads_directory)\n",
    "            try:\n",
    "                driver.get(articles_list[index][\"google_scholar_link\"])\n",
    "                time.sleep(5)\n",
    "            except:\n",
    "                encountered_web_driver_exception = True\n",
    "                while encountered_web_driver_exception == True:\n",
    "                    try:\n",
    "                        driver.get(articles_list[index][\"google_scholar_link\"])\n",
    "                        encountered_web_driver_exception = False\n",
    "                        time.sleep(5)\n",
    "                    except:\n",
    "                        pass\n",
    "            \n",
    "        \n",
    "            downloaded_file_name = get_last_downloaded_file(downloads_directory)\n",
    "            if previous_downloaded_file_name != downloaded_file_name:\n",
    "                articles_list[index][\"downloaded_file_name\"] = downloaded_file_name.split(\"\\\\\")[-1]\n",
    "            else:\n",
    "                articles_list[index][\"downloaded_file_name\"] = None\n",
    "        \n",
    "        with open(os.path.join(\"utils\", f\"{re.sub(' ', '_', topic)}_articles_list.json\"), \"w\") as outfile:\n",
    "             outfile.write(json.dumps(articles_list))"
   ]
  },
  {
   "cell_type": "code",
   "execution_count": null,
   "id": "68f096b6",
   "metadata": {},
   "outputs": [],
   "source": [
    "def wrapper(google_scholar_scrapping_driver, pdf_downloader_driver, topic:str):\n",
    "    print(f\"Started extracting links for topic: {topic}\")\n",
    "    update_articles_links_for_topic(google_scholar_scrapping_driver, topic)\n",
    "    print(f\"Ended extracting links for topic: {topic}\")\n",
    "    \n",
    "    \n",
    "    print(f\"Started downloading the pdfs from the links list\")\n",
    "    download_pdfs_from_list(pdf_downloader_driver, topic)\n",
    "    print(f\"Ended downloading the pdfs from the links list\")"
   ]
  },
  {
   "cell_type": "code",
   "execution_count": null,
   "id": "bb51f570",
   "metadata": {},
   "outputs": [],
   "source": [
    "topic = \"Computer vision in medicine\""
   ]
  },
  {
   "cell_type": "code",
   "execution_count": null,
   "id": "7b574b2d",
   "metadata": {},
   "outputs": [],
   "source": [
    "topic = \"INSERT YOUR TOPIC HERE\""
   ]
  },
  {
   "cell_type": "code",
   "execution_count": null,
   "id": "ae9887f8",
   "metadata": {},
   "outputs": [],
   "source": [
    "downloads_directory = os.path.join(os.getcwd(), \"output\", f\"{re.sub(' ', '_', topic)}\")"
   ]
  },
  {
   "cell_type": "code",
   "execution_count": null,
   "id": "4443f2ec",
   "metadata": {},
   "outputs": [],
   "source": [
    "google_scholar_scrapping_driver = init_google_scholar_scrapping_driver()"
   ]
  },
  {
   "cell_type": "code",
   "execution_count": null,
   "id": "2df27add",
   "metadata": {},
   "outputs": [],
   "source": [
    "pdf_downloader_driver = init_pdf_downloader_driver(downloads_directory)"
   ]
  },
  {
   "cell_type": "code",
   "execution_count": null,
   "id": "191b0a1a",
   "metadata": {},
   "outputs": [],
   "source": [
    "wrapper(google_scholar_scrapping_driver, pdf_downloader_driver, topic)"
   ]
  }
 ],
 "metadata": {
  "kernelspec": {
   "display_name": "Python 3",
   "language": "python",
   "name": "python3"
  },
  "language_info": {
   "codemirror_mode": {
    "name": "ipython",
    "version": 3
   },
   "file_extension": ".py",
   "mimetype": "text/x-python",
   "name": "python",
   "nbconvert_exporter": "python",
   "pygments_lexer": "ipython3",
   "version": "3.8.8"
  }
 },
 "nbformat": 4,
 "nbformat_minor": 5
}
